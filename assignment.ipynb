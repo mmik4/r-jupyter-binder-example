{
  "cells": [
    {
      "cell_type": "markdown",
      "metadata": {},
      "source": [
        "# Introduction to R in Jupyter\n",
        "Welcome! This notebook will introduce you to basic R commands.\n",
        "\n",
        "Run each code cell by clicking it and pressing **Shift + Enter**."
      ]
    },
    {
      "cell_type": "code",
      "execution_count": null,
      "metadata": {
        "collapsed": false
      },
      "outputs": [],
      "source": [
        "# Basic Math in R\n",
        "2 + 2\n",
        "10 / 5\n",
        "sqrt(16)"
      ]
    },
    {
      "cell_type": "markdown",
      "metadata": {},
      "source": [
        "## Creating a Simple Plot\n",
        "Let's create a basic scatter plot."
      ]
    },
    {
      "cell_type": "code",
      "execution_count": null,
      "metadata": {
        "collapsed": false
      },
      "outputs": [],
      "source": [
        "# Create and plot data\n",
        "x <- c(1, 2, 3, 4, 5)\n",
        "y <- x^2\n",
        "plot(x, y, main=\"A Simple Plot\")"
      ]
    },
    {
      "cell_type": "markdown",
      "metadata": {},
      "source": [
        "**Task:** Modify the code above to plot `y <- x^3` instead of `y <- x^2`."
      ]
    }
  ],
  "metadata": {
    "kernelspec": {
      "display_name": "R",
      "language": "R",
      "name": "ir"
    },
    "language_info": {
      "codemirror_mode": "r",
      "file_extension": ".r",
      "mimetype": "text/x-r-source",
      "name": "R",
      "pygments_lexer": "r",
      "version": "4.1.0"
    }
  },
  "nbformat": 4,
  "nbformat_minor": 2
}